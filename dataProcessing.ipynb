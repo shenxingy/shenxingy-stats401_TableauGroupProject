{
 "cells": [
  {
   "cell_type": "code",
   "execution_count": 76,
   "metadata": {},
   "outputs": [],
   "source": [
    "import numpy as np\n",
    "import pandas as pd\n",
    "import jieba"
   ]
  },
  {
   "cell_type": "code",
   "execution_count": 77,
   "metadata": {},
   "outputs": [],
   "source": [
    "#read weekly_popular.xlsx\n",
    "weekly_popular = pd.read_excel('weekly_popular.xlsx')"
   ]
  },
  {
   "cell_type": "code",
   "execution_count": 89,
   "metadata": {},
   "outputs": [],
   "source": [
    "def cut_words(column_name):\n",
    "    column_cut = []\n",
    "    #get column\n",
    "    column = weekly_popular[column_name]\n",
    "    for i in column:\n",
    "        i = str(i)\n",
    "        column_cut.append(jieba.lcut(i))\n",
    "    wordlist = []\n",
    "    for i in column_cut:\n",
    "        for j in i:\n",
    "            wordlist.append(j)\n",
    "    #save word_list to word_list.csv\n",
    "    wordlist = pd.DataFrame(wordlist)\n",
    "    #drop nan\n",
    "    wordlist = wordlist.dropna()\n",
    "    wordlist.to_csv('{}_wordlist.csv'.format(column_name),index=False)\n",
    "    #remove stop words from cn_stopwords.txt\n",
    "    stopwords = [line.strip() for line in open('cn_stopwords.txt',encoding='UTF-8').readlines()]\n",
    "    wordlist_removed = wordlist[~wordlist.isin(stopwords)]\n",
    "    #drop nan\n",
    "    wordlist_removed = wordlist_removed.dropna()\n",
    "    #save word_list to word_list_noStopWords.csv\n",
    "    wordlist_removed.to_csv('{}_wordlist_noStopWords.csv'.format(column_name),index=False)"
   ]
  },
  {
   "cell_type": "code",
   "execution_count": 92,
   "metadata": {},
   "outputs": [],
   "source": [
    "cut_words('title')\n",
    "cut_words('desc')\n",
    "cut_words('dynamic')\n",
    "cut_words('rcmd_reason')"
   ]
  },
  {
   "cell_type": "code",
   "execution_count": null,
   "metadata": {},
   "outputs": [],
   "source": []
  }
 ],
 "metadata": {
  "kernelspec": {
   "display_name": "base",
   "language": "python",
   "name": "python3"
  },
  "language_info": {
   "codemirror_mode": {
    "name": "ipython",
    "version": 3
   },
   "file_extension": ".py",
   "mimetype": "text/x-python",
   "name": "python",
   "nbconvert_exporter": "python",
   "pygments_lexer": "ipython3",
   "version": "3.9.7"
  },
  "orig_nbformat": 4,
  "vscode": {
   "interpreter": {
    "hash": "399d0e3137bfbbe732ffce16f404d0134f25670dcd6d6cdc60d5d201443092cb"
   }
  }
 },
 "nbformat": 4,
 "nbformat_minor": 2
}
