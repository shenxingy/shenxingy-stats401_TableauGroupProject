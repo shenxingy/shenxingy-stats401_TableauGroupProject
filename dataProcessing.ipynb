{
 "cells": [
  {
   "cell_type": "code",
   "execution_count": 1,
   "metadata": {},
   "outputs": [],
   "source": [
    "import numpy as np\n",
    "import pandas as pd\n",
    "import jieba"
   ]
  },
  {
   "cell_type": "code",
   "execution_count": 2,
   "metadata": {},
   "outputs": [],
   "source": [
    "#read weekly_popular.xlsx\n",
    "most_recent = pd.read_csv('most_recent.csv')\n",
    "#drop nan\n",
    "most_recent = most_recent.dropna()"
   ]
  },
  {
   "cell_type": "code",
   "execution_count": 3,
   "metadata": {},
   "outputs": [],
   "source": [
    "def cut_words(column_name):\n",
    "    column_cut = []\n",
    "    #get column\n",
    "    column = most_recent[column_name]\n",
    "    for i in column:\n",
    "        i = str(i)\n",
    "        column_cut.append(jieba.lcut(i))\n",
    "    wordlist = []\n",
    "    for i in column_cut:\n",
    "        for j in i:\n",
    "            wordlist.append(j)\n",
    "    #save word_list to word_list.csv\n",
    "    wordlist = pd.DataFrame(wordlist)\n",
    "    #drop nan\n",
    "    wordlist = wordlist.dropna()\n",
    "    wordlist.to_csv('{}_wordlist.csv'.format(column_name),index=False)\n",
    "    #remove stop words from cn_stopwords.txt\n",
    "    stopwords = [line.strip() for line in open('cn_stopwords.txt',encoding='UTF-8').readlines()]\n",
    "    wordlist_removed = wordlist[~wordlist.isin(stopwords)]\n",
    "    #drop nan\n",
    "    wordlist_removed = wordlist_removed.dropna()\n",
    "    #save word_list to word_list_noStopWords.csv\n",
    "    wordlist_removed.to_csv('{}_wordlist_noStopWords.csv'.format(column_name),index=False)"
   ]
  },
  {
   "cell_type": "code",
   "execution_count": 4,
   "metadata": {},
   "outputs": [
    {
     "name": "stderr",
     "output_type": "stream",
     "text": [
      "Building prefix dict from the default dictionary ...\n",
      "Dumping model to file cache /var/folders/ts/yc6c7tl96hjdf33yyy_9y96m0000gn/T/jieba.cache\n",
      "Loading model cost 0.853 seconds.\n",
      "Prefix dict has been built successfully.\n"
     ]
    }
   ],
   "source": [
    "cut_words('title')\n",
    "cut_words('desc')\n",
    "cut_words('dynamic')"
   ]
  },
  {
   "cell_type": "code",
   "execution_count": 5,
   "metadata": {},
   "outputs": [],
   "source": [
    "def perc_missing(df):\n",
    "    '''prints out columns with missing values with its %'''\n",
    "    for col in df.columns:\n",
    "        pct = df[col].isna().mean() * 100\n",
    "        if (pct != 0):\n",
    "            print('{} => {}%'.format(col, round(pct, 2)))"
   ]
  },
  {
   "cell_type": "code",
   "execution_count": 6,
   "metadata": {},
   "outputs": [],
   "source": [
    "perc_missing(most_recent)"
   ]
  },
  {
   "cell_type": "code",
   "execution_count": 7,
   "metadata": {},
   "outputs": [],
   "source": [
    "most_recent = pd.read_csv('most_recent.csv')\n",
    "\n",
    "most_recent = most_recent.drop([11603,13849], axis=0)\n",
    "most_recent = most_recent.drop('dimension',axis=1)\n",
    "#rearange the index\n",
    "most_recent = most_recent.reset_index(drop=True)\n",
    "\n",
    "#make each row of stat do dict\n",
    "stat = most_recent['stat']\n",
    "stat_dict = []\n",
    "for i in stat:\n",
    "    #if i is nan, make it to 0\n",
    "    if type(i) == float:\n",
    "        i = \"{'aid': 0, 'view': 1, 'danmaku': 0, 'reply': 0, 'favorite': 0, 'coin': 0, 'share': 0, 'now_rank': 0, 'his_rank': 0, 'like': 0, 'dislike': 0, 'evaluation': 0, 'argue_msg': 0}\"\n",
    "    sd = eval(i)\n",
    "    stat_dict.append(sd)\n",
    "#make stat_dict to dataframe of dict\n",
    "stat_dict = pd.DataFrame(stat_dict)\n",
    "\n",
    "#drop columns that are not needed\n",
    "stat_dict = stat_dict.drop(['aid','now_rank','his_rank','evaluation','argue_msg', 'dislike'],axis=1)\n",
    "#replace stat with stat_dict\n",
    "most_recent = most_recent.drop('stat',axis=1)\n",
    "#concat most_recent and stat_dict and based on row number\n",
    "most_recent = pd.concat([most_recent,stat_dict],axis=1)"
   ]
  },
  {
   "cell_type": "code",
   "execution_count": 8,
   "metadata": {},
   "outputs": [],
   "source": [
    "owner = most_recent['owner']\n",
    "owner_dict = []\n",
    "for i in owner:\n",
    "    #if i is nan, make it to 0\n",
    "    if type(i) == float:\n",
    "        i = \"{'mid' : 0, 'name' : 0, 'face' : 0}\"\n",
    "    od = eval(i)\n",
    "    owner_dict.append(od)\n",
    "#make stat_dict to dataframe of dict\n",
    "owner_dict = pd.DataFrame(owner_dict)\n",
    "\n",
    "#drop columns that are not needed\n",
    "owner_dict = owner_dict.drop('face',axis=1)\n",
    "#replace stat with stat_dict\n",
    "most_recent = most_recent.drop('owner',axis=1)\n",
    "#concat most_recent and stat_dict and based on row number\n",
    "most_recent = pd.concat([most_recent,owner_dict],axis=1)"
   ]
  },
  {
   "cell_type": "code",
   "execution_count": 9,
   "metadata": {},
   "outputs": [
    {
     "name": "stderr",
     "output_type": "stream",
     "text": [
      "/var/folders/ts/yc6c7tl96hjdf33yyy_9y96m0000gn/T/ipykernel_21623/3508209395.py:12: SettingWithCopyWarning: \n",
      "A value is trying to be set on a copy of a slice from a DataFrame\n",
      "\n",
      "See the caveats in the documentation: https://pandas.pydata.org/pandas-docs/stable/user_guide/indexing.html#returning-a-view-versus-a-copy\n",
      "  view[i] = 1\n"
     ]
    }
   ],
   "source": [
    "#fill nan with 0\n",
    "most_recent = most_recent.fillna(0)\n",
    "coin = most_recent['coin']\n",
    "favorite = most_recent['favorite']\n",
    "danmaku = most_recent['danmaku']\n",
    "reply = most_recent['reply']\n",
    "view = most_recent['view']\n",
    "like = most_recent['like']\n",
    "share = most_recent['share']\n",
    "for i in range(len(view)):\n",
    "    if view[i] == 0:\n",
    "        view[i] = 1\n",
    "recommandation_rate = (coin * 1.2 + favorite * 0.9 + danmaku * 1.2 + reply * 1.2 + view * 0.75 + like * 1.2 + share * 1.8) / view\n",
    "most_recent['recommandation_rate'] = recommandation_rate"
   ]
  },
  {
   "cell_type": "code",
   "execution_count": 10,
   "metadata": {},
   "outputs": [
    {
     "name": "stdout",
     "output_type": "stream",
     "text": [
      "0.8782552203877642\n",
      "0.19304744638383986\n"
     ]
    }
   ],
   "source": [
    "#compute the recommandation rate mean and variance\n",
    "#find outlyer in recommandation_rate\n",
    "rr = most_recent['recommandation_rate']\n",
    "rr_mean = rr.mean()\n",
    "rr_std = rr.std()\n",
    "print(rr_mean)\n",
    "print(rr_std)"
   ]
  },
  {
   "cell_type": "code",
   "execution_count": 11,
   "metadata": {},
   "outputs": [],
   "source": [
    "#add a column of recommandation_rate_level\n",
    "rr_level = []\n",
    "for i in rr:\n",
    "    if i > rr_mean + 2 * rr_std:\n",
    "        rr_level.append('highly recommend')\n",
    "    elif i > 1:\n",
    "        rr_level.append('recommend')\n",
    "    elif i > rr_mean:\n",
    "        rr_level.append('neutral')\n",
    "    else:\n",
    "        rr_level.append('not recommend')\n",
    "most_recent['recommandation_rate_level'] = rr_level"
   ]
  },
  {
   "cell_type": "code",
   "execution_count": 12,
   "metadata": {},
   "outputs": [
    {
     "data": {
      "text/html": [
       "<div>\n",
       "<style scoped>\n",
       "    .dataframe tbody tr th:only-of-type {\n",
       "        vertical-align: middle;\n",
       "    }\n",
       "\n",
       "    .dataframe tbody tr th {\n",
       "        vertical-align: top;\n",
       "    }\n",
       "\n",
       "    .dataframe thead th {\n",
       "        text-align: right;\n",
       "    }\n",
       "</style>\n",
       "<table border=\"1\" class=\"dataframe\">\n",
       "  <thead>\n",
       "    <tr style=\"text-align: right;\">\n",
       "      <th></th>\n",
       "      <th>Unnamed: 0</th>\n",
       "      <th>tid</th>\n",
       "      <th>tname</th>\n",
       "      <th>title</th>\n",
       "      <th>desc</th>\n",
       "      <th>duration</th>\n",
       "      <th>dynamic</th>\n",
       "      <th>bvid</th>\n",
       "      <th>view</th>\n",
       "      <th>danmaku</th>\n",
       "      <th>reply</th>\n",
       "      <th>favorite</th>\n",
       "      <th>coin</th>\n",
       "      <th>share</th>\n",
       "      <th>like</th>\n",
       "      <th>mid</th>\n",
       "      <th>name</th>\n",
       "      <th>recommandation_rate</th>\n",
       "      <th>recommandation_rate_level</th>\n",
       "    </tr>\n",
       "  </thead>\n",
       "  <tbody>\n",
       "    <tr>\n",
       "      <th>14995</th>\n",
       "      <td>0.0</td>\n",
       "      <td>231</td>\n",
       "      <td>计算机技术</td>\n",
       "      <td>【Unity3D VFX】Unity3D VFX 骨骼绑定的闪电特效</td>\n",
       "      <td>0</td>\n",
       "      <td>69</td>\n",
       "      <td>#Unity3D##VFX##骨骼绑定#</td>\n",
       "      <td>BV1jE411A7xC</td>\n",
       "      <td>1178</td>\n",
       "      <td>0</td>\n",
       "      <td>0</td>\n",
       "      <td>4</td>\n",
       "      <td>0</td>\n",
       "      <td>0</td>\n",
       "      <td>4</td>\n",
       "      <td>435663342</td>\n",
       "      <td>技术侠</td>\n",
       "      <td>0.757131</td>\n",
       "      <td>not recommend</td>\n",
       "    </tr>\n",
       "    <tr>\n",
       "      <th>14996</th>\n",
       "      <td>0.0</td>\n",
       "      <td>157</td>\n",
       "      <td>美妆护肤</td>\n",
       "      <td>#GRWM  一个不正经的蜜桃妆</td>\n",
       "      <td>新人up来报道啦！\\n视频可能有些地方不足比如说我的素颜啦 还请你们多多包涵 如果你们有建议...</td>\n",
       "      <td>525</td>\n",
       "      <td>#日常# #化妆# #GRWM#</td>\n",
       "      <td>BV1jE411A7xy</td>\n",
       "      <td>12</td>\n",
       "      <td>0</td>\n",
       "      <td>0</td>\n",
       "      <td>0</td>\n",
       "      <td>0</td>\n",
       "      <td>0</td>\n",
       "      <td>1</td>\n",
       "      <td>160192438</td>\n",
       "      <td>aaaa000_</td>\n",
       "      <td>0.850000</td>\n",
       "      <td>not recommend</td>\n",
       "    </tr>\n",
       "    <tr>\n",
       "      <th>14997</th>\n",
       "      <td>0.0</td>\n",
       "      <td>174</td>\n",
       "      <td>其他</td>\n",
       "      <td>PN-CT300F边压强度试验</td>\n",
       "      <td>0</td>\n",
       "      <td>115</td>\n",
       "      <td>#边压##知识分享官#</td>\n",
       "      <td>BV1jE411A7x1</td>\n",
       "      <td>183</td>\n",
       "      <td>0</td>\n",
       "      <td>0</td>\n",
       "      <td>1</td>\n",
       "      <td>0</td>\n",
       "      <td>1</td>\n",
       "      <td>0</td>\n",
       "      <td>522203960</td>\n",
       "      <td>杭州品享科技</td>\n",
       "      <td>0.764754</td>\n",
       "      <td>not recommend</td>\n",
       "    </tr>\n",
       "    <tr>\n",
       "      <th>14998</th>\n",
       "      <td>0.0</td>\n",
       "      <td>137</td>\n",
       "      <td>明星综合</td>\n",
       "      <td>王嘉尔《数嘉宝贝》之100种变身方式ಥ_ಥ</td>\n",
       "      <td>-</td>\n",
       "      <td>35</td>\n",
       "      <td>#明星# #王嘉尔# #王嘉尔JACKSON#《100ways》新歌来袭！古装我可！</td>\n",
       "      <td>BV1jE411A7x2</td>\n",
       "      <td>29</td>\n",
       "      <td>0</td>\n",
       "      <td>0</td>\n",
       "      <td>0</td>\n",
       "      <td>0</td>\n",
       "      <td>0</td>\n",
       "      <td>1</td>\n",
       "      <td>38389510</td>\n",
       "      <td>Far一</td>\n",
       "      <td>0.791379</td>\n",
       "      <td>not recommend</td>\n",
       "    </tr>\n",
       "    <tr>\n",
       "      <th>14999</th>\n",
       "      <td>0.0</td>\n",
       "      <td>172</td>\n",
       "      <td>手机游戏</td>\n",
       "      <td>猫和老鼠：小朋友你是否有很多问号？？？</td>\n",
       "      <td>猫和老鼠：如何制裁史上最脏套路？选海盗就对了！完全不起作用</td>\n",
       "      <td>103</td>\n",
       "      <td>#猫和老鼠##手游##游戏视频#</td>\n",
       "      <td>BV1jE411A7xz</td>\n",
       "      <td>2792</td>\n",
       "      <td>3</td>\n",
       "      <td>12</td>\n",
       "      <td>7</td>\n",
       "      <td>2</td>\n",
       "      <td>2</td>\n",
       "      <td>180</td>\n",
       "      <td>6986914</td>\n",
       "      <td>黑猫游戏鸡</td>\n",
       "      <td>0.838216</td>\n",
       "      <td>not recommend</td>\n",
       "    </tr>\n",
       "  </tbody>\n",
       "</table>\n",
       "</div>"
      ],
      "text/plain": [
       "       Unnamed: 0  tid  tname                               title  \\\n",
       "14995         0.0  231  计算机技术  【Unity3D VFX】Unity3D VFX 骨骼绑定的闪电特效   \n",
       "14996         0.0  157   美妆护肤                    #GRWM  一个不正经的蜜桃妆   \n",
       "14997         0.0  174     其他                     PN-CT300F边压强度试验   \n",
       "14998         0.0  137   明星综合               王嘉尔《数嘉宝贝》之100种变身方式ಥ_ಥ   \n",
       "14999         0.0  172   手机游戏                 猫和老鼠：小朋友你是否有很多问号？？？   \n",
       "\n",
       "                                                    desc duration  \\\n",
       "14995                                                  0       69   \n",
       "14996  新人up来报道啦！\\n视频可能有些地方不足比如说我的素颜啦 还请你们多多包涵 如果你们有建议...      525   \n",
       "14997                                                  0      115   \n",
       "14998                                                  -       35   \n",
       "14999                      猫和老鼠：如何制裁史上最脏套路？选海盗就对了！完全不起作用      103   \n",
       "\n",
       "                                          dynamic          bvid  view  \\\n",
       "14995                        #Unity3D##VFX##骨骼绑定#  BV1jE411A7xC  1178   \n",
       "14996                            #日常# #化妆# #GRWM#  BV1jE411A7xy    12   \n",
       "14997                                 #边压##知识分享官#  BV1jE411A7x1   183   \n",
       "14998  #明星# #王嘉尔# #王嘉尔JACKSON#《100ways》新歌来袭！古装我可！  BV1jE411A7x2    29   \n",
       "14999                            #猫和老鼠##手游##游戏视频#  BV1jE411A7xz  2792   \n",
       "\n",
       "       danmaku  reply  favorite  coin  share  like        mid      name  \\\n",
       "14995        0      0         4     0      0     4  435663342       技术侠   \n",
       "14996        0      0         0     0      0     1  160192438  aaaa000_   \n",
       "14997        0      0         1     0      1     0  522203960    杭州品享科技   \n",
       "14998        0      0         0     0      0     1   38389510      Far一   \n",
       "14999        3     12         7     2      2   180    6986914     黑猫游戏鸡   \n",
       "\n",
       "       recommandation_rate recommandation_rate_level  \n",
       "14995             0.757131             not recommend  \n",
       "14996             0.850000             not recommend  \n",
       "14997             0.764754             not recommend  \n",
       "14998             0.791379             not recommend  \n",
       "14999             0.838216             not recommend  "
      ]
     },
     "execution_count": 12,
     "metadata": {},
     "output_type": "execute_result"
    }
   ],
   "source": [
    "most_recent.tail()"
   ]
  },
  {
   "cell_type": "code",
   "execution_count": 13,
   "metadata": {},
   "outputs": [],
   "source": [
    "#save to csv\n",
    "most_recent.to_csv('most_recent_updated.csv',index=False)"
   ]
  },
  {
   "cell_type": "code",
   "execution_count": null,
   "metadata": {},
   "outputs": [],
   "source": []
  }
 ],
 "metadata": {
  "kernelspec": {
   "display_name": "base",
   "language": "python",
   "name": "python3"
  },
  "language_info": {
   "codemirror_mode": {
    "name": "ipython",
    "version": 3
   },
   "file_extension": ".py",
   "mimetype": "text/x-python",
   "name": "python",
   "nbconvert_exporter": "python",
   "pygments_lexer": "ipython3",
   "version": "3.9.7"
  },
  "orig_nbformat": 4,
  "vscode": {
   "interpreter": {
    "hash": "399d0e3137bfbbe732ffce16f404d0134f25670dcd6d6cdc60d5d201443092cb"
   }
  }
 },
 "nbformat": 4,
 "nbformat_minor": 2
}
